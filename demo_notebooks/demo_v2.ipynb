{
 "cells": [
  {
   "cell_type": "markdown",
   "id": "1edd290d",
   "metadata": {},
   "source": [
    "Includes:\n",
    "- User provides baseline yield. Therefore, output is not yield value, but a category indicating the likelihood of being above, below or betwen normal conditions\n",
    "- Main chart is an stacked barplot showing the categories just described"
   ]
  },
  {
   "cell_type": "code",
   "execution_count": 1,
   "id": "0e5fc8f9",
   "metadata": {},
   "outputs": [],
   "source": [
    "import sys\n",
    "# sys.path.remove('/home/dquintero/venvs/dssat/lib/python3.10/site-packages')\n",
    "sys.path.append(\"/home/dquintero/venvs/serviceDSSAT/lib/python3.10/site-packages\")\n",
    "sys.path.append('/home/dquintero/spatialDSSAT')\n",
    "sys.path.append('/home/dquintero/dev_dssat_service/')\n",
    "# sys.path.append('..')"
   ]
  },
  {
   "cell_type": "code",
   "execution_count": 2,
   "id": "ef3598bf",
   "metadata": {},
   "outputs": [],
   "source": [
    "from database import connect\n",
    "from dssat import run_spatial_dssat\n",
    "from data.transform import parse_overview\n",
    "from datetime import datetime"
   ]
  },
  {
   "cell_type": "code",
   "execution_count": 3,
   "id": "f53b163c",
   "metadata": {},
   "outputs": [],
   "source": [
    "import pandas as pd\n",
    "import numpy as np"
   ]
  },
  {
   "cell_type": "code",
   "execution_count": 4,
   "id": "7c3eae16",
   "metadata": {},
   "outputs": [],
   "source": [
    "dbname = \"dssatserv\""
   ]
  },
  {
   "cell_type": "code",
   "execution_count": 5,
   "id": "b2667d23",
   "metadata": {},
   "outputs": [
    {
     "name": "stderr",
     "output_type": "stream",
     "text": [
      "100%|████████████████████████████████████████████████████████████████████████████████████████████████████████████████████████████████████████████████████████████████████████████████████████████████████████| 50/50 [00:03<00:00, 15.84it/s]\n"
     ]
    }
   ],
   "source": [
    "df, overview = run_spatial_dssat(\n",
    "    dbname=dbname, \n",
    "    schema=\"kenya\", \n",
    "    admin1=\"Nakuru\",\n",
    "    plantingdate=datetime(2022, 4, 1),\n",
    "    cultivar=\"990002\",\n",
    "    nitrogen=[(5, 20), (30, 10), (50, 10)],\n",
    "    overview=True\n",
    ")"
   ]
  },
  {
   "cell_type": "code",
   "execution_count": 6,
   "id": "ea4a1893",
   "metadata": {},
   "outputs": [],
   "source": [
    "import ipywidgets as widgets"
   ]
  },
  {
   "cell_type": "code",
   "execution_count": 7,
   "id": "a16d27b7",
   "metadata": {},
   "outputs": [],
   "source": [
    "con = connect(dbname)"
   ]
  },
  {
   "cell_type": "code",
   "execution_count": 8,
   "id": "c1e7ec1a",
   "metadata": {},
   "outputs": [],
   "source": [
    "cur = con.cursor()\n",
    "query = \"SELECT admin1 FROM kenya.admin\"\n",
    "cur.execute(query)\n",
    "admin1_list = [i[0] for i in cur.fetchall()]\n",
    "cur.close()"
   ]
  },
  {
   "cell_type": "code",
   "execution_count": 9,
   "id": "faf604b5",
   "metadata": {},
   "outputs": [],
   "source": [
    "cultivar_types = {'Short': \"990003\", 'Medium': \"990002\", 'Long': \"990001\"}"
   ]
  },
  {
   "cell_type": "code",
   "execution_count": 10,
   "id": "e9d4c94b",
   "metadata": {},
   "outputs": [],
   "source": [
    "def run(pars):\n",
    "    if \"nitrogen_dap\" in pars:\n",
    "        nitro = list(zip(pars[\"nitrogen_dap\"], pars[\"nitrogen_rate\"]))\n",
    "    else:\n",
    "        nitro = [(0, pars[\"nitrogen\"]),]\n",
    "    df, overview = run_spatial_dssat(\n",
    "            dbname=dbname, \n",
    "            schema=\"kenya\", \n",
    "            admin1=pars[\"admin1\"],\n",
    "            plantingdate=datetime(pars[\"plantingdate\"].year, pars[\"plantingdate\"].month, pars[\"plantingdate\"].day),\n",
    "            cultivar=cultivar_types[pars[\"cultivar\"]],\n",
    "            nitrogen=nitro,\n",
    "            overview=True,\n",
    "            all_random=False\n",
    "        )\n",
    "    return df, overview"
   ]
  },
  {
   "cell_type": "code",
   "execution_count": 11,
   "id": "222e459f",
   "metadata": {},
   "outputs": [],
   "source": [
    "CURRENT_BASELINE_YEARS = np.arange(2018, 2023)\n",
    "# CURRENT_BASELINE_YEARS = np.arange(2012, 2018)\n",
    "def run_baseline(pars):\n",
    "    df = pd.DataFrame()\n",
    "    if \"nitrogen_dap\" in pars:\n",
    "        nitro = list(zip(pars[\"nitrogen_dap\"], pars[\"nitrogen_rate\"]))\n",
    "    else:\n",
    "        nitro = [(0, pars[\"nitrogen\"]),]\n",
    "    for year in CURRENT_BASELINE_YEARS:\n",
    "        tmp_df = run_spatial_dssat(\n",
    "            dbname=dbname, \n",
    "            schema=\"kenya\", \n",
    "            admin1=pars[\"admin1\"],\n",
    "            plantingdate=datetime(year, pars[\"plantingdate\"].month, pars[\"plantingdate\"].day),\n",
    "            cultivar=cultivar_types[pars[\"cultivar\"]],\n",
    "            nitrogen=nitro,\n",
    "            overview=False,\n",
    "            all_random=False\n",
    "        )\n",
    "        tmp_df[\"year\"] = year \n",
    "        df = pd.concat([df, tmp_df], ignore_index=True)\n",
    "    return df"
   ]
  },
  {
   "cell_type": "code",
   "execution_count": 12,
   "id": "d22a498d",
   "metadata": {},
   "outputs": [],
   "source": [
    "pars = {\n",
    "    \"plantingdate\": datetime(2022, 4, 1), \"cultivar\": \"Medium\", \"nitrogen\": 40., \n",
    "    \"admin1\": \"Nakuru\", \"nitrogen_dap\": (5, 30, 50), \"nitrogen_rate\": (20, 10, 10)\n",
    "}"
   ]
  },
  {
   "cell_type": "code",
   "execution_count": 13,
   "id": "c3a9d1f0",
   "metadata": {},
   "outputs": [
    {
     "name": "stderr",
     "output_type": "stream",
     "text": [
      "100%|████████████████████████████████████████████████████████████████████████████████████████████████████████████████████████████████████████████████████████████████████████████████████████████████████████| 50/50 [00:03<00:00, 16.45it/s]\n",
      "100%|████████████████████████████████████████████████████████████████████████████████████████████████████████████████████████████████████████████████████████████████████████████████████████████████████████| 50/50 [00:04<00:00, 10.68it/s]\n",
      "100%|████████████████████████████████████████████████████████████████████████████████████████████████████████████████████████████████████████████████████████████████████████████████████████████████████████| 50/50 [00:05<00:00,  9.68it/s]\n",
      "100%|████████████████████████████████████████████████████████████████████████████████████████████████████████████████████████████████████████████████████████████████████████████████████████████████████████| 50/50 [00:03<00:00, 16.18it/s]\n",
      "100%|████████████████████████████████████████████████████████████████████████████████████████████████████████████████████████████████████████████████████████████████████████████████████████████████████████| 50/50 [00:03<00:00, 16.13it/s]\n"
     ]
    }
   ],
   "source": [
    "baseline_df = run_baseline(pars)"
   ]
  },
  {
   "cell_type": "code",
   "execution_count": 14,
   "id": "1bd3f565",
   "metadata": {},
   "outputs": [],
   "source": [
    "QUANTILES_TO_COMPARE = np.arange(0.025, 1, 0.05)\n",
    "def baseline_quantile_stats(baseline_df):\n",
    "    baseline_df[\"HARWT\"] = baseline_df.HARWT.astype(int)\n",
    "    baseline_stats = (\n",
    "        baseline_df\n",
    "        .groupby([\"year\"]).HARWT\n",
    "        .quantile(QUANTILES_TO_COMPARE)\n",
    "        .reset_index().rename(columns={\"level_1\": \"quantile\"})\n",
    "        .groupby(\"quantile\").HARWT\n",
    "        .agg([\"mean\", \"std\"])\n",
    "    )\n",
    "    return baseline_stats\n",
    "baseline_stats = baseline_quantile_stats(baseline_df)"
   ]
  },
  {
   "cell_type": "code",
   "execution_count": 15,
   "id": "a0ce3544",
   "metadata": {},
   "outputs": [],
   "source": [
    "def run_anomalies(df, baseline_stats):\n",
    "    df[\"HARWT\"] = df.HARWT.astype(int)\n",
    "    run_stats = (\n",
    "        df.HARWT\n",
    "        .quantile(QUANTILES_TO_COMPARE)\n",
    "        .reset_index().rename(columns={\"index\": \"quantile\"})\n",
    "        .set_index(\"quantile\")\n",
    "    )\n",
    "    anomalies = (run_stats.HARWT - baseline_stats[\"mean\"])/baseline_stats[\"std\"]\n",
    "    return anomalies\n",
    "anomalies = run_anomalies(baseline_df, baseline_stats)"
   ]
  },
  {
   "cell_type": "code",
   "execution_count": 16,
   "id": "2e45b450",
   "metadata": {},
   "outputs": [],
   "source": [
    "from highcharts_core.chart import Chart\n",
    "from highcharts_core.chart import HighchartsOptions\n",
    "from highcharts_core.options.series.bar import ColumnSeries\n",
    "from highcharts_core.options.plot_options.bar import ColumnOptions"
   ]
  },
  {
   "cell_type": "code",
   "execution_count": 17,
   "id": "62adeb6f",
   "metadata": {},
   "outputs": [
    {
     "data": {
      "text/plain": [
       "10"
      ]
     },
     "execution_count": 17,
     "metadata": {},
     "output_type": "execute_result"
    }
   ],
   "source": [
    "from matplotlib.cm import get_cmap\n",
    "from matplotlib.colors import to_hex\n",
    "\n",
    "colors = list(map(to_hex, get_cmap(\"tab10\").colors))\n",
    "len(colors)"
   ]
  },
  {
   "cell_type": "code",
   "execution_count": 18,
   "id": "2b498392",
   "metadata": {},
   "outputs": [],
   "source": [
    "CAT_NAMES = [\"Very low\", \"Low\", \"Normal\", \"High\", \"Very high\"]\n",
    "CAT_COLORS = ['#cc0000', \"#ff9933\", \"#ffff66\", \"#99cc00\", \"#009933\"]\n",
    "\n",
    "def init_anomalies_chart():\n",
    "    my_chart = Chart()\n",
    "    my_chart.options = HighchartsOptions()\n",
    "    my_chart.options.title = {\n",
    "        'text': 'DSSAT maize yield anomaly', \n",
    "        \"style\": {\n",
    "            \"font-size\": \"15px\"\n",
    "        }\n",
    "    }\n",
    "    my_chart.options.y_axis = {\n",
    "        \"title\": {\n",
    "            'text': 'Probability (%)', \n",
    "            \"style\": {\n",
    "                \"font-size\": \"15px\"\n",
    "            }\n",
    "        },\n",
    "        \"labels\": {\n",
    "            \"style\": {\n",
    "                \"font-size\": \"15px\",\n",
    "            }\n",
    "        },\n",
    "        \"max\": 100\n",
    "    }\n",
    "    my_chart.options.x_axis = {\n",
    "        \"title\": {\n",
    "            'text': 'Experiment', \n",
    "            \"style\": {\n",
    "                \"font-size\": \"15px\",\n",
    "            }\n",
    "        },\n",
    "        \"labels\": {\n",
    "            \"style\": {\n",
    "                \"font-size\": \"15px\",\n",
    "            }\n",
    "        }\n",
    "    }\n",
    "    for name, color in zip(CAT_NAMES[::-1], CAT_COLORS[::-1]):\n",
    "        box = ColumnSeries()\n",
    "        box.name = name\n",
    "        box.color = color\n",
    "        box.data = []\n",
    "        my_chart.add_series(box)\n",
    "        box.stacking = 'normal'\n",
    "        box.data_labels = {\n",
    "                \"enabled\": True\n",
    "            }\n",
    "    \n",
    "    return my_chart"
   ]
  },
  {
   "cell_type": "code",
   "execution_count": 19,
   "id": "39079e47",
   "metadata": {},
   "outputs": [],
   "source": [
    "DEV_STAGES = [\n",
    "    'Emergence-End Juvenile', 'End Juvenil-Floral Init',\n",
    "    'Floral Init-End Lf Grow', 'End Lf Grth-Beg Grn Fil',\n",
    "    'Grain Filling Phase'\n",
    "]\n",
    "DEV_STAGES_LABELS = [\n",
    "    \"Emerg.-End<br>Juv.\", \"End Juv-<br>Flor Init\", \"Flor Init-<br>End Lf Gro\",\n",
    "    \"End lf Gro-<br>Beg Grain<br>Fil\", \"Grain<br>Fill\"\n",
    "]\n",
    "def init_stress_chart(stress_type):\n",
    "    my_chart = Chart()\n",
    "    my_chart.options = HighchartsOptions()\n",
    "    my_chart.options.title = {\n",
    "        'text': f'{stress_type} stress', \n",
    "        \"style\": {\n",
    "            \"font-size\": \"15px\"\n",
    "        }\n",
    "    }\n",
    "    my_chart.options.y_axis = {\n",
    "        \"title\": {\n",
    "            'text': f'Stress (%)', \n",
    "            \"style\": {\n",
    "                \"font-size\": \"15px\"\n",
    "            }\n",
    "        },\n",
    "        \"labels\": {\n",
    "            \"style\": {\n",
    "                \"font-size\": \"15px\",\n",
    "            }\n",
    "        },\n",
    "        \"max\": 100\n",
    "    }\n",
    "    my_chart.options.x_axis = {\n",
    "        \"title\": {\n",
    "            'text': 'Crop Dev. Stage', \n",
    "            \"style\": {\n",
    "                \"font-size\": \"15px\",\n",
    "            }\n",
    "        },\n",
    "        \"labels\": {\n",
    "            \"style\": {\n",
    "                \"font-size\": \"15px\",\n",
    "            },\n",
    "            \"auto_rotation_limit\": 0,\n",
    "            \"allow_overlap\": True\n",
    "        },\n",
    "        \"categories\": DEV_STAGES_LABELS\n",
    "    }      \n",
    "    return my_chart"
   ]
  },
  {
   "cell_type": "code",
   "execution_count": 20,
   "id": "cf4491b5",
   "metadata": {},
   "outputs": [],
   "source": [
    "import numpy as np\n",
    "Z_LIM = 0.44 # Limit for what is considered \"Normal\". 0.44 Splits equal groups (terciles)\n",
    "Z_EXT_LIM = 2 # Limit for extreme values\n",
    "def assign_categories(data):\n",
    "    data = np.array(data)\n",
    "    very_low = (data < -Z_EXT_LIM).mean()*100\n",
    "    low = (data < -Z_LIM).mean()*100 - very_low\n",
    "    very_high = (data > Z_EXT_LIM).mean()*100\n",
    "    high = (data > Z_LIM).mean()*100 - very_high\n",
    "    norm = 100 - low - high - very_high - very_low\n",
    "    return list(map(int, [very_high, high, norm, low, very_low]))\n",
    "\n",
    "\n",
    "def add_bar(chart, data):\n",
    "    cat_data = assign_categories(data)\n",
    "    label = f\"{pars['cultivar']}<br>{pars['plantingdate'].strftime('%b %d')}<br>{pars['nitrogen']}\"\n",
    "    if chart.options.series is None:\n",
    "        x = 0\n",
    "    else:\n",
    "        x = len(chart.options.series)/2\n",
    "    # Boxplot\n",
    "    series = chart.to_dict()[\"userOptions\"][\"series\"]\n",
    "    for n, cat in enumerate(cat_data):\n",
    "        series_data = series[n].get(\"data\", [])\n",
    "        series_data += [cat]\n",
    "        series[n][\"data\"] = series_data\n",
    "    chart.update_series(*series)\n",
    "    "
   ]
  },
  {
   "cell_type": "code",
   "execution_count": 21,
   "id": "8712fb8a",
   "metadata": {},
   "outputs": [],
   "source": [
    "def process_overview(overview):\n",
    "    overview = parse_overview(\"\".join(overview))\n",
    "    overview = overview.set_index([\"RUN\", 'devPhase']).astype(float).reset_index()\n",
    "    overview[\"watStress\"] = overview[['stressWatPho', 'stressWatGro']].max(axis=1)\n",
    "    overview[\"nitroStress\"] = overview[['stressNitPhto', 'stressNitGro']].max(axis=1)\n",
    "    return overview"
   ]
  },
  {
   "cell_type": "code",
   "execution_count": 22,
   "id": "ac079985",
   "metadata": {},
   "outputs": [],
   "source": [
    "def add_stress_bar(chart, data):\n",
    "    \"data is pandas.Series with the dev stage as index\"\n",
    "    data = 100*data\n",
    "    \n",
    "    box = ColumnSeries()\n",
    "    box.data = [data.to_dict().get(dev_st) for dev_st in DEV_STAGES]\n",
    "    if chart.options.series is None:\n",
    "        n = 0\n",
    "    else:\n",
    "        n = len(chart.options.series)\n",
    "    box.name = f\"Exp {n}\"\n",
    "    chart.add_series(box)"
   ]
  },
  {
   "cell_type": "code",
   "execution_count": 23,
   "id": "f27a87f4",
   "metadata": {},
   "outputs": [],
   "source": [
    "# chart = init_stress_chart(\"Water\")\n",
    "# add_stress_bar(chart, tmp_df.groupby(\"devPhase\").watStress.mean())\n",
    "# chart.display()"
   ]
  },
  {
   "cell_type": "code",
   "execution_count": 24,
   "id": "b004e767",
   "metadata": {},
   "outputs": [],
   "source": [
    "# chart = init_anomalies_chart()\n",
    "# add_bar(chart, anomalies)\n",
    "# chart.display()"
   ]
  },
  {
   "cell_type": "code",
   "execution_count": 25,
   "id": "beb6dcfe",
   "metadata": {},
   "outputs": [],
   "source": [
    "import plotly.graph_objects as go\n",
    "from IPython.display import display, clear_output"
   ]
  },
  {
   "cell_type": "markdown",
   "id": "a8b5d6c6",
   "metadata": {},
   "source": [
    "### Baseline for Nakuru:\n",
    "40 kg/ha Nitrogen (https://api.hub.ifdc.org/server/api/core/bitstreams/cb2720dc-d0f2-444a-9472-7dbd9e3763e9/content)\n",
    "\n",
    "Planted in April (https://ipad.fas.usda.gov/rssiws/al/crop_calendar/eafrica.aspx)"
   ]
  },
  {
   "cell_type": "code",
   "execution_count": 26,
   "id": "a213912c",
   "metadata": {},
   "outputs": [],
   "source": [
    "nakuru_12_20_yield = [3.33, 2.55, 1.84, 1.57, 2.36, 2.33, 3.75, 1.42]\n",
    "uasin_gishu_12_18 = [2.82, 4.09, 3.93, 3.89, 3.95, 3.12, 4.26]"
   ]
  },
  {
   "cell_type": "code",
   "execution_count": 27,
   "id": "05f635af",
   "metadata": {},
   "outputs": [],
   "source": [
    "def reset_anom_chart(chart):\n",
    "    series = chart.to_dict()[\"userOptions\"][\"series\"]\n",
    "    for n, serie in enumerate(series):\n",
    "        series[n][\"data\"] = []\n",
    "    chart.update_series(*series)\n",
    "    \n",
    "def reset_stress_chart(chart):\n",
    "#     series = chart.to_dict()[\"userOptions\"][\"series\"]\n",
    "#     chart.update_series(*[])\n",
    "    chart.options.series = None"
   ]
  },
  {
   "cell_type": "code",
   "execution_count": 28,
   "id": "b89c0946",
   "metadata": {
    "scrolled": false
   },
   "outputs": [
    {
     "data": {
      "application/vnd.jupyter.widget-view+json": {
       "model_id": "5549d014dd11418783ade5cc518dff1c",
       "version_major": 2,
       "version_minor": 0
      },
      "text/plain": [
       "VBox(children=(HBox(children=(VBox(children=(HBox(children=(Button(button_style='success', description='Run DS…"
      ]
     },
     "metadata": {},
     "output_type": "display_data"
    },
    {
     "data": {
      "application/vnd.jupyter.widget-view+json": {
       "model_id": "26652110f1e246c5a148ab346b311869",
       "version_major": 2,
       "version_minor": 0
      },
      "text/plain": [
       "Output()"
      ]
     },
     "metadata": {},
     "output_type": "display_data"
    },
    {
     "data": {
      "application/vnd.jupyter.widget-view+json": {
       "model_id": "511f97ae68a64b9b8ef40569c07b8398",
       "version_major": 2,
       "version_minor": 0
      },
      "text/plain": [
       "Output()"
      ]
     },
     "metadata": {},
     "output_type": "display_data"
    },
    {
     "data": {
      "application/vnd.jupyter.widget-view+json": {
       "model_id": "e43579b38e624b80915b30df4a44e799",
       "version_major": 2,
       "version_minor": 0
      },
      "text/plain": [
       "Output()"
      ]
     },
     "metadata": {},
     "output_type": "display_data"
    },
    {
     "name": "stderr",
     "output_type": "stream",
     "text": [
      "100%|████████████████████████████████████████████████████████████████████████████████████████████████████████████████████████████████████████████████████████████████████████████████████████████████████████| 50/50 [00:03<00:00, 16.35it/s]\n"
     ]
    }
   ],
   "source": [
    "pars = {\n",
    "    \"plantingdate\": datetime(2022, 4, 1), \"cultivar\": \"Medium\", \"nitrogen\": 40., \n",
    "    \"admin1\": \"Nakuru\", \"nitrogen_dap\": (5, 30, 50), \"nitrogen_rate\": (20, 10, 10)\n",
    "}\n",
    "other_pars = {\"baseline stats\": baseline_stats, \"latest run\": None, \"latest overview\": None}\n",
    "other_pars[\"pars_df\"] = pd.DataFrame(columns=[\"Cultivar\", \"Planting\", \"Nitro dap\", \"Nitro rate\"])\n",
    "\n",
    "def on_value_change(change, par):\n",
    "    pars[par] = change.new\n",
    "\n",
    "region_picker = widgets.Dropdown(\n",
    "    options=admin1_list,\n",
    "    value=pars[\"admin1\"],\n",
    "    description='Admin1:',\n",
    "    disabled=False,\n",
    ")\n",
    "region_picker.observe(lambda x: on_value_change(x, \"admin1\"), names='value')\n",
    "\n",
    "plantingdate_picker = widgets.DatePicker(\n",
    "    description='Planting date:',\n",
    "    disabled=False,\n",
    "    value=pars[\"plantingdate\"]\n",
    ")\n",
    "plantingdate_picker.observe(lambda x: on_value_change(x, \"plantingdate\"), names='value')\n",
    "\n",
    "cultivar_picker = widgets.Dropdown(\n",
    "    options=['Short', 'Medium', 'Long'],\n",
    "    description='Cultivar type:',\n",
    "    disabled=False,\n",
    "    value=pars[\"cultivar\"]\n",
    ")\n",
    "cultivar_picker.observe(lambda x: on_value_change(x, \"cultivar\"), names='value')\n",
    "\n",
    "nitrogen_slider = widgets.FloatSlider(\n",
    "    min=0,\n",
    "    max=120.0,\n",
    "    step=0.1,\n",
    "    description='Nitrogen rate:',\n",
    "    disabled=False,\n",
    "    continuous_update=False,\n",
    "    orientation='horizontal',\n",
    "    readout=True,\n",
    "    readout_format='.1f',\n",
    "    value=pars[\"nitrogen\"]\n",
    ")\n",
    "nitrogen_slider.observe(lambda x: on_value_change(x, \"nitrogen\"), names='value')\n",
    "\n",
    "run_button = widgets.Button(\n",
    "    description='Run DSSAT',\n",
    "    disabled=False,\n",
    "    button_style='success', # 'success', 'info', 'warning', 'danger' or ''\n",
    "    tooltip='Run DSSAT',\n",
    ")\n",
    "clear_button = widgets.Button(\n",
    "    description='Clear',\n",
    "    disabled=False,\n",
    "    button_style='danger', # 'success', 'info', 'warning', 'danger' or ''\n",
    "    tooltip='Clear',\n",
    ")\n",
    "\n",
    "baseline_button = widgets.Button(\n",
    "    description='Set Baseline',\n",
    "    disabled=False,\n",
    "    button_style='', # 'success', 'info', 'warning', 'danger' or ''\n",
    "    tooltip='Set Baseline',\n",
    ")\n",
    "\n",
    "pars_desc = widgets.HTML(\n",
    "    value=\"<b>Baseline</b><br><b>Planting:</b> {0}, <b>Cultivar:</b> {1},<br><b>Nitrogen:</b> {2}, <b>County:</b> {3}\".format(\n",
    "        pars[\"plantingdate\"], pars[\"cultivar\"], list(zip(pars[\"nitrogen_dap\"], pars[\"nitrogen_rate\"])), pars[\"admin1\"]\n",
    "    )\n",
    ")\n",
    "\n",
    "nitrogen_dap = widgets.IntsInput(\n",
    "    value=pars[\"nitrogen_dap\"],\n",
    "    min=0,\n",
    "    max=120,\n",
    "    format='d',\n",
    "    description='N date(dap):'\n",
    ")\n",
    "nitrogen_dap.observe(lambda x: on_value_change(x, \"nitrogen_dap\"), names='value')\n",
    "\n",
    "nitrogen_rate = widgets.IntsInput(\n",
    "    value=pars[\"nitrogen_rate\"],\n",
    "    min=0,\n",
    "    max=999,\n",
    "    format='d',\n",
    "    description='N rate:'\n",
    ")\n",
    "nitrogen_rate.observe(lambda x: on_value_change(x, \"nitrogen_rate\"), names='value')\n",
    "\n",
    "irrigation = widgets.Checkbox(\n",
    "    value=False,\n",
    "    description='Irrigation',\n",
    "    disabled=True,\n",
    "    indent=False\n",
    ")\n",
    "\n",
    "output_yield = widgets.Output()\n",
    "output_stress1 = widgets.Output()\n",
    "output_stress2 = widgets.Output()\n",
    "\n",
    "pars_table = widgets.HTML(value=\"\")\n",
    "\n",
    "select_box = widgets.VBox([\n",
    "    widgets.HBox([\n",
    "        widgets.VBox([\n",
    "            widgets.HBox([run_button, clear_button]),\n",
    "            baseline_button,\n",
    "        ]),\n",
    "        widgets.VBox([\n",
    "            widgets.HBox([region_picker, plantingdate_picker]),\n",
    "            widgets.HBox([cultivar_picker, irrigation]),\n",
    "        ]),\n",
    "    ]),\n",
    "    widgets.HBox([\n",
    "        pars_desc,\n",
    "        widgets.VBox([\n",
    "            widgets.HTML(value=\"<b>Fertilizer options</b>\"),\n",
    "            widgets.HBox([widgets.HTML(value=\"Timing (dap):\"), nitrogen_dap]),\n",
    "            widgets.HBox([widgets.HTML(value=\"Rate (kg N/ha):\"), nitrogen_rate]),\n",
    "        ])\n",
    "    ]),\n",
    "    \n",
    "    widgets.HBox([\n",
    "        output_yield,\n",
    "        pars_table\n",
    "    ]),\n",
    "    widgets.HBox([\n",
    "        widgets.HBox([output_stress1,]),\n",
    "        widgets.HBox([output_stress2,])\n",
    "    ])\n",
    "])\n",
    "\n",
    "chart = init_anomalies_chart()\n",
    "stress_chart_1 = init_stress_chart(\"Water\")\n",
    "stress_chart_2 = init_stress_chart(\"Nitrogen\")\n",
    "\n",
    "def clear_figure(b):\n",
    "    reset_anom_chart(chart)\n",
    "    reset_stress_chart(stress_chart_1)\n",
    "    reset_stress_chart(stress_chart_2)\n",
    "    with output_yield:\n",
    "        chart.display()\n",
    "    with output_stress1:\n",
    "        stress_chart_1.display()\n",
    "    with output_stress2:\n",
    "        stress_chart_2.display()\n",
    "    other_pars[\"pars_df\"] = pd.DataFrame(columns=[\"Cultivar\", \"Planting\", \"Nitro dap\", \"Nitro rate\"])\n",
    "    pars_table.value = \"\"\n",
    "\n",
    "def on_clic_run(b):\n",
    "    df, overview = run(pars)\n",
    "    other_pars[\"latest run\"] = df\n",
    "    overview_df = process_overview(overview)\n",
    "    other_pars[\"latest overview\"] = overview\n",
    "    anomalies = run_anomalies(df, other_pars[\"baseline stats\"])\n",
    "    with output_yield:\n",
    "        add_bar(chart, anomalies)\n",
    "        clear_output()\n",
    "        chart.display()\n",
    "    with output_stress1:\n",
    "        add_stress_bar(stress_chart_1, overview_df.groupby(\"devPhase\").watStress.mean())\n",
    "        clear_output()\n",
    "        stress_chart_1.display()\n",
    "    with output_stress2:\n",
    "        add_stress_bar(stress_chart_2, overview_df.groupby(\"devPhase\").nitroStress.mean())\n",
    "        clear_output()\n",
    "        stress_chart_2.display()\n",
    "    n_exp = len(stress_chart_1.options.series)\n",
    "    other_pars[\"pars_df\"].loc[n_exp-1] = (pars[\"cultivar\"], pars[\"plantingdate\"], pars[\"nitrogen_dap\"], pars[\"nitrogen_rate\"])\n",
    "    pars_table.value = other_pars[\"pars_df\"].to_html()\n",
    "        \n",
    "        \n",
    "def on_clic_baseline(b):\n",
    "    pars_desc.value =\"<b>Baseline</b><br><b>Planting:</b> {0}, <b>Cultivar:</b> {1},<br><b>Nitrogen:</b> {2}, <b>County:</b> {3}\".format(\n",
    "        pars[\"plantingdate\"], pars[\"cultivar\"], list(zip(pars[\"nitrogen_dap\"], pars[\"nitrogen_rate\"])), pars[\"admin1\"]\n",
    "    )\n",
    "    baseline_df = run_baseline(pars)\n",
    "    other_pars[\"baseline stats\"] = baseline_quantile_stats(baseline_df)\n",
    "    \n",
    "clear_button.on_click(clear_figure)\n",
    "run_button.on_click(on_clic_run)\n",
    "baseline_button.on_click(on_clic_baseline)\n",
    "display(select_box, output_yield, output_stress1, output_stress2)"
   ]
  },
  {
   "cell_type": "code",
   "execution_count": 29,
   "id": "0b016b4c",
   "metadata": {},
   "outputs": [],
   "source": [
    "other_pars[\"latest run\"]"
   ]
  },
  {
   "cell_type": "code",
   "execution_count": 30,
   "id": "6e192d4f",
   "metadata": {},
   "outputs": [
    {
     "ename": "TypeError",
     "evalue": "can only join an iterable",
     "output_type": "error",
     "traceback": [
      "\u001b[0;31m---------------------------------------------------------------------------\u001b[0m",
      "\u001b[0;31mTypeError\u001b[0m                                 Traceback (most recent call last)",
      "Cell \u001b[0;32mIn[30], line 1\u001b[0m\n\u001b[0;32m----> 1\u001b[0m \u001b[38;5;28mprint\u001b[39m(\u001b[38;5;124;43m\"\u001b[39;49m\u001b[38;5;124;43m\"\u001b[39;49m\u001b[38;5;241;43m.\u001b[39;49m\u001b[43mjoin\u001b[49m\u001b[43m(\u001b[49m\u001b[43mother_pars\u001b[49m\u001b[43m[\u001b[49m\u001b[38;5;124;43m\"\u001b[39;49m\u001b[38;5;124;43mlatest overview\u001b[39;49m\u001b[38;5;124;43m\"\u001b[39;49m\u001b[43m]\u001b[49m\u001b[43m)\u001b[49m)\n",
      "\u001b[0;31mTypeError\u001b[0m: can only join an iterable"
     ]
    }
   ],
   "source": [
    "print(\"\".join(other_pars[\"latest overview\"]))"
   ]
  },
  {
   "cell_type": "code",
   "execution_count": null,
   "id": "69d71fa9",
   "metadata": {},
   "outputs": [],
   "source": []
  }
 ],
 "metadata": {
  "kernelspec": {
   "display_name": "Python 3 (ipykernel)",
   "language": "python",
   "name": "python3"
  },
  "language_info": {
   "codemirror_mode": {
    "name": "ipython",
    "version": 3
   },
   "file_extension": ".py",
   "mimetype": "text/x-python",
   "name": "python",
   "nbconvert_exporter": "python",
   "pygments_lexer": "ipython3",
   "version": "3.10.12"
  }
 },
 "nbformat": 4,
 "nbformat_minor": 5
}
