{
 "cells": [
  {
   "cell_type": "code",
   "execution_count": 1,
   "id": "0e5fc8f9",
   "metadata": {},
   "outputs": [],
   "source": [
    "import sys\n",
    "# sys.path.remove('/home/dquintero/venvs/dssat/lib/python3.10/site-packages')\n",
    "sys.path.append(\"/home/dquintero/venvs/serviceDSSAT/lib/python3.10/site-packages\")\n",
    "sys.path.append('/home/dquintero/spatialDSSAT')\n",
    "sys.path.append('/home/dquintero/dev_dssat_service/')\n",
    "# sys.path.append('..')\n",
    "from database import connect\n",
    "from dssat import run_spatial_dssat\n",
    "from datetime import datetime"
   ]
  },
  {
   "cell_type": "code",
   "execution_count": 2,
   "id": "7c3eae16",
   "metadata": {},
   "outputs": [],
   "source": [
    "dbname = \"dssatserv\""
   ]
  },
  {
   "cell_type": "code",
   "execution_count": 4,
   "id": "b2667d23",
   "metadata": {},
   "outputs": [],
   "source": [
    "# df = run_spatial_dssat(\n",
    "#     dbname=dbname, \n",
    "#     schema=\"kenya\", \n",
    "#     admin1=\"Nakuru\",\n",
    "#     plantingdate=datetime(2021,3, 15),\n",
    "#     cultivar=\"990003\",\n",
    "#     nitrogen=[(0, 50), (30, 40)]\n",
    "# )"
   ]
  },
  {
   "cell_type": "code",
   "execution_count": 16,
   "id": "ea4a1893",
   "metadata": {},
   "outputs": [],
   "source": [
    "import ipywidgets as widgets"
   ]
  },
  {
   "cell_type": "code",
   "execution_count": 6,
   "id": "a16d27b7",
   "metadata": {},
   "outputs": [],
   "source": [
    "con = connect(dbname)"
   ]
  },
  {
   "cell_type": "code",
   "execution_count": 7,
   "id": "c1e7ec1a",
   "metadata": {},
   "outputs": [],
   "source": [
    "cur = con.cursor()\n",
    "query = \"SELECT admin1 FROM kenya.admin\"\n",
    "cur.execute(query)\n",
    "admin1_list = [i[0] for i in cur.fetchall()]\n",
    "cur.close()"
   ]
  },
  {
   "cell_type": "code",
   "execution_count": 8,
   "id": "faf604b5",
   "metadata": {},
   "outputs": [],
   "source": [
    "cultivar_types = {'Short': \"990003\", 'Medium': \"990002\", 'Long': \"990001\"}"
   ]
  },
  {
   "cell_type": "code",
   "execution_count": 9,
   "id": "e9d4c94b",
   "metadata": {},
   "outputs": [],
   "source": [
    "def run(pars):\n",
    "    df = run_spatial_dssat(\n",
    "            dbname=dbname, \n",
    "            schema=\"kenya\", \n",
    "            admin1=pars[\"admin1\"],\n",
    "            plantingdate=datetime(pars[\"plantingdate\"].year, pars[\"plantingdate\"].month, pars[\"plantingdate\"].day),\n",
    "            cultivar=cultivar_types[pars[\"cultivar\"]],\n",
    "            nitrogen=[(0, pars[\"nitrogen\"]),]\n",
    "        )\n",
    "    return df"
   ]
  },
  {
   "cell_type": "code",
   "execution_count": 10,
   "id": "2e45b450",
   "metadata": {},
   "outputs": [],
   "source": [
    "from highcharts_core.chart import Chart\n",
    "from highcharts_core.chart import HighchartsOptions\n",
    "from highcharts_core.options.series.boxplot import BoxPlotSeries\n",
    "from highcharts_core.options.series.scatter import ScatterSeries\n",
    "from highcharts_core.options.series.area import LineSeries"
   ]
  },
  {
   "cell_type": "code",
   "execution_count": 11,
   "id": "62adeb6f",
   "metadata": {},
   "outputs": [
    {
     "data": {
      "text/plain": [
       "10"
      ]
     },
     "execution_count": 11,
     "metadata": {},
     "output_type": "execute_result"
    }
   ],
   "source": [
    "from matplotlib.cm import get_cmap\n",
    "from matplotlib.colors import to_hex\n",
    "\n",
    "colors = list(map(to_hex, get_cmap(\"tab10\").colors))\n",
    "len(colors)"
   ]
  },
  {
   "cell_type": "code",
   "execution_count": 12,
   "id": "cf4491b5",
   "metadata": {},
   "outputs": [],
   "source": [
    "import numpy as np\n",
    "def boxplot_data(data):\n",
    "    data = np.array(data)\n",
    "    q1, median, q3 = np.quantile(data, [0.25, .5, .75])\n",
    "    iqr = q3 - q1\n",
    "    low = max(median - 1.5*iqr, min(data))\n",
    "    high = min(median + 1.5*iqr, max(data))\n",
    "    outliers = data[(data > high) | (data < low)]\n",
    "    return {\"low\": low, \"q1\": q1, \"median\": median, \"q3\": q3, \"high\": high}, outliers\n",
    "\n",
    "def add_box(chart, data):\n",
    "    boxdata, outliers = boxplot_data(data)\n",
    "    label = f\"{pars['cultivar']}<br>{pars['plantingdate'].strftime('%b %d')}<br>{pars['nitrogen']}\"\n",
    "    if chart.options.series is None:\n",
    "        x = 0\n",
    "    else:\n",
    "        x = len(chart.options.series)/2\n",
    "    boxdata[\"x\"] = x\n",
    "    # Boxplot\n",
    "    box = BoxPlotSeries()\n",
    "    box.name = label\n",
    "    box.id = label\n",
    "    box.data = [boxdata]\n",
    "    box.group_padding = 0.\n",
    "    box.grouping = False\n",
    "    box.color = colors[int(x)%len(colors)]\n",
    "    chart.add_series(box)\n",
    "    \n",
    "    # Outliers\n",
    "    outs = ScatterSeries.from_array(\n",
    "        np.array([[x]*len(outliers), outliers]).T\n",
    "    )\n",
    "    outs.linked_to = label\n",
    "    outs.color = colors[int(x)%len(colors)]\n",
    "    outs.marker = {\"symbol\": \"circle\"}\n",
    "    chart.add_series(outs)\n",
    "    return box\n",
    "    "
   ]
  },
  {
   "cell_type": "code",
   "execution_count": 17,
   "id": "2b498392",
   "metadata": {},
   "outputs": [],
   "source": [
    "def init_chart():\n",
    "    my_chart = Chart()\n",
    "    my_chart.options = HighchartsOptions()\n",
    "    my_chart.options.title = {\n",
    "        'text': 'DSSAT maize yield estimates', \n",
    "        \"style\": {\n",
    "            \"font-size\": \"15px\"\n",
    "        }\n",
    "    }\n",
    "    my_chart.options.y_axis = {\n",
    "        \"title\": {\n",
    "            'text': 'Yield (kg/ha)', \n",
    "            \"style\": {\n",
    "                \"font-size\": \"15px\"\n",
    "            }\n",
    "        },\n",
    "        \"labels\": {\n",
    "            \"style\": {\n",
    "                \"font-size\": \"15px\",\n",
    "            }\n",
    "        }\n",
    "    }\n",
    "    my_chart.options.x_axis = {\n",
    "        \"title\": {\n",
    "            'text': 'Experiment', \n",
    "            \"style\": {\n",
    "                \"font-size\": \"15px\",\n",
    "            }\n",
    "        },\n",
    "        \"labels\": {\n",
    "            \"style\": {\n",
    "                \"font-size\": \"15px\",\n",
    "            }\n",
    "        }\n",
    "    }\n",
    "    return my_chart\n",
    "my_chart = init_chart()"
   ]
  },
  {
   "cell_type": "code",
   "execution_count": 18,
   "id": "beb6dcfe",
   "metadata": {},
   "outputs": [],
   "source": [
    "import plotly.graph_objects as go\n",
    "from IPython.display import display, clear_output"
   ]
  },
  {
   "cell_type": "code",
   "execution_count": 19,
   "id": "b89c0946",
   "metadata": {
    "scrolled": false
   },
   "outputs": [
    {
     "data": {
      "application/vnd.jupyter.widget-view+json": {
       "model_id": "44f01f725fbc4a2fbf23a83fb618376f",
       "version_major": 2,
       "version_minor": 0
      },
      "text/plain": [
       "VBox(children=(HBox(children=(HBox(children=(Button(description='Run DSSAT', style=ButtonStyle(), tooltip='Run…"
      ]
     },
     "metadata": {},
     "output_type": "display_data"
    },
    {
     "data": {
      "application/vnd.jupyter.widget-view+json": {
       "model_id": "993f327da15c4b9faf8124b980b33e99",
       "version_major": 2,
       "version_minor": 0
      },
      "text/plain": [
       "Output()"
      ]
     },
     "metadata": {},
     "output_type": "display_data"
    },
    {
     "name": "stderr",
     "output_type": "stream",
     "text": [
      "100%|████████████████████████████████████████████████████████████████████████████████████████████████████████████████████████████████████████████████████████████████████████████████████████████████████████| 50/50 [00:03<00:00, 15.88it/s]\n"
     ]
    }
   ],
   "source": [
    "pars = {\"plantingdate\": datetime(2022, 1, 1), \"cultivar\": \"Short\", \"nitrogen\": 30., \"admin1\": admin1_list[0]}\n",
    "\n",
    "def on_value_change(change, par):\n",
    "    pars[par] = change.new\n",
    "\n",
    "region_picker = widgets.Dropdown(\n",
    "    options=admin1_list,\n",
    "    value=pars[\"admin1\"],\n",
    "    description='Admin1:',\n",
    "    disabled=False,\n",
    ")\n",
    "region_picker.observe(lambda x: on_value_change(x, \"admin1\"), names='value')\n",
    "\n",
    "plantingdate_picker = widgets.DatePicker(\n",
    "    description='Planting date:',\n",
    "    disabled=False,\n",
    "    value=pars[\"plantingdate\"]\n",
    ")\n",
    "plantingdate_picker.observe(lambda x: on_value_change(x, \"plantingdate\"), names='value')\n",
    "\n",
    "cultivar_picker = widgets.Dropdown(\n",
    "    options=['Short', 'Medium', 'Long'],\n",
    "    description='Cultivar type:',\n",
    "    disabled=False,\n",
    "    value=pars[\"cultivar\"]\n",
    ")\n",
    "cultivar_picker.observe(lambda x: on_value_change(x, \"cultivar\"), names='value')\n",
    "\n",
    "nitrogen_slider = widgets.FloatSlider(\n",
    "    min=0,\n",
    "    max=120.0,\n",
    "    step=0.1,\n",
    "    description='Nitrogen rate:',\n",
    "    disabled=False,\n",
    "    continuous_update=False,\n",
    "    orientation='horizontal',\n",
    "    readout=True,\n",
    "    readout_format='.1f',\n",
    "    value=pars[\"nitrogen\"]\n",
    ")\n",
    "nitrogen_slider.observe(lambda x: on_value_change(x, \"nitrogen\"), names='value')\n",
    "\n",
    "button = widgets.Button(\n",
    "    description='Run DSSAT',\n",
    "    disabled=False,\n",
    "    button_style='', # 'success', 'info', 'warning', 'danger' or ''\n",
    "    tooltip='Run DSSAT',\n",
    ")\n",
    "clear_button = widgets.Button(\n",
    "    description='Clear',\n",
    "    disabled=False,\n",
    "    button_style='', # 'success', 'info', 'warning', 'danger' or ''\n",
    "    tooltip='Clear',\n",
    ")\n",
    "\n",
    "output = widgets.Output()\n",
    "\n",
    "select_box = widgets.VBox([\n",
    "    widgets.HBox([\n",
    "        widgets.HBox([button, clear_button]),\n",
    "        widgets.VBox([\n",
    "            widgets.HBox([region_picker, plantingdate_picker]),\n",
    "            widgets.HBox([cultivar_picker, nitrogen_slider])\n",
    "        ])\n",
    "    ]), \n",
    "    output])\n",
    "# fig = go.Figure()\n",
    "# def clear_figure(b):\n",
    "#     fig.layout = {}\n",
    "#     fig.data = []\n",
    "#     clear_output()\n",
    "#     display(select_box, output)\n",
    "#     fig.show()\n",
    "chart = init_chart()\n",
    "def clear_figure(b):\n",
    "#     clear_output()\n",
    "    chart.options.series = None\n",
    "    with output:\n",
    "#         chart = clean_chart\n",
    "        chart.display()\n",
    "# def on_clic(b):\n",
    "#     df = run(pars)\n",
    "#     label = f\"{pars['cultivar']}<br>{pars['plantingdate'].strftime('%b %d')}<br>{pars['nitrogen']}\"\n",
    "#     with output:\n",
    "#         fig.add_trace(go.Box(y=df.HARWT.astype(int), name=label))\n",
    "# #         fig.add_trace(go.Bar(y=[df.HARWT.astype(int).mean()], name=label))\n",
    "#         clear_output()\n",
    "#         fig.show()\n",
    "def on_clic(b):\n",
    "    df = run(pars)\n",
    "    with output:\n",
    "        add_box(chart, df.HARWT.astype(float))\n",
    "# #         fig.add_trace(go.Bar(y=[df.HARWT.astype(int).mean()], name=label))\n",
    "        clear_output()\n",
    "        chart.display()\n",
    "        \n",
    "clear_button.on_click(clear_figure)\n",
    "button.on_click(on_clic)\n",
    "display(select_box, output)"
   ]
  },
  {
   "cell_type": "code",
   "execution_count": 20,
   "id": "54b21f41",
   "metadata": {},
   "outputs": [
    {
     "name": "stderr",
     "output_type": "stream",
     "text": [
      "100%|████████████████████████████████████████████████████████████████████████████████████████████████████████████████████████████████████████████████████████████████████████████████████████████████████████| 50/50 [00:03<00:00, 16.18it/s]\n"
     ]
    }
   ],
   "source": [
    "df = run(pars)"
   ]
  },
  {
   "cell_type": "code",
   "execution_count": null,
   "id": "8ed5fe2a",
   "metadata": {},
   "outputs": [],
   "source": []
  },
  {
   "cell_type": "code",
   "execution_count": 654,
   "id": "1546e04c",
   "metadata": {},
   "outputs": [
    {
     "data": {
      "text/plain": [
       "['#8dd3c7',\n",
       " '#ffffb3',\n",
       " '#bebada',\n",
       " '#fb8072',\n",
       " '#80b1d3',\n",
       " '#fdb462',\n",
       " '#b3de69',\n",
       " '#fccde5',\n",
       " '#d9d9d9',\n",
       " '#bc80bd',\n",
       " '#ccebc5',\n",
       " '#ffed6f']"
      ]
     },
     "execution_count": 654,
     "metadata": {},
     "output_type": "execute_result"
    }
   ],
   "source": []
  },
  {
   "cell_type": "code",
   "execution_count": 180,
   "id": "6e0c492a",
   "metadata": {},
   "outputs": [
    {
     "data": {
      "text/plain": [
       "1"
      ]
     },
     "execution_count": 180,
     "metadata": {},
     "output_type": "execute_result"
    }
   ],
   "source": [
    "len(my_chart.options.series)"
   ]
  },
  {
   "cell_type": "code",
   "execution_count": 239,
   "id": "0b016b4c",
   "metadata": {},
   "outputs": [
    {
     "data": {
      "text/plain": [
       "array([[0, 3],\n",
       "       [0, 4]])"
      ]
     },
     "execution_count": 239,
     "metadata": {},
     "output_type": "execute_result"
    }
   ],
   "source": [
    "np.array([[0, 0], [3, 4]]).T"
   ]
  }
 ],
 "metadata": {
  "kernelspec": {
   "display_name": "Python 3 (ipykernel)",
   "language": "python",
   "name": "python3"
  },
  "language_info": {
   "codemirror_mode": {
    "name": "ipython",
    "version": 3
   },
   "file_extension": ".py",
   "mimetype": "text/x-python",
   "name": "python",
   "nbconvert_exporter": "python",
   "pygments_lexer": "ipython3",
   "version": "3.10.12"
  }
 },
 "nbformat": 4,
 "nbformat_minor": 5
}
